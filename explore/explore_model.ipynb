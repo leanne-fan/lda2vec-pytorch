{
 "cells": [
  {
   "cell_type": "markdown",
   "metadata": {},
   "source": [
    "# Prepare"
   ]
  },
  {
   "cell_type": "code",
   "execution_count": 1,
   "metadata": {},
   "outputs": [],
   "source": [
    "import numpy as np\n",
    "import torch\n",
    "from glob import glob\n",
    "import os\n",
    "\n",
    "import matplotlib.pyplot as plt\n",
    "%matplotlib inline\n",
    "\n",
    "def softmax(x):\n",
    "    # x has shape [batch_size, n_classes]\n",
    "    x = x - np.tile(np.max(x, axis=1).reshape((-1,1)), x.shape[1])\n",
    "    \n",
    "    e = np.exp(x)\n",
    "    n = np.sum(e, 1, keepdims=True)\n",
    "    return e/n\n",
    "\n",
    "import json\n",
    "with open('../data/newsgroups_texts.json', 'r') as fp:\n",
    "    texts = json.load(fp)\n",
    "\n",
    "decoder = np.load('../npy/decoder.npy', allow_pickle=True).item()\n"
   ]
  },
  {
   "cell_type": "markdown",
   "metadata": {},
   "source": [
    "# Show Topics"
   ]
  },
  {
   "cell_type": "code",
   "execution_count": 2,
   "metadata": {},
   "outputs": [
    {
     "name": "stdout",
     "output_type": "stream",
     "text": [
      " [*] Load SUCCESS: ../checkpoint/100_epoch_model_state.pt\n",
      "topic 1 : 3.1 window computervision dx250 trident vga emm386 ati mouse card\n",
      "topic 2 : obo shipping cdp mint sale polk forsale cassette b.o postage\n",
      "topic 3 : lord elohim psalm jehovah father jesus unto imprecatory god thou\n",
      "topic 4 : ankara belgeleri mezalimi ax ermeni osmanli sevr istanbul imparatorlugu'nun askeri\n",
      "topic 5 : armenian turk turkish muslim kurd tartar massacre armenia kurdish village\n",
      "topic 6 : gic tlu mezalimi ax imparatorlugu'nun ankara belgeleri sevr ermeni deplib\n",
      "topic 7 : venus moon kuwait solar planet orbit jupiter spacecraft mission asteroid\n",
      "topic 8 : game season team nhl player hockey league playoff baseball pitcher\n",
      "topic 9 : ermeni mezalimi ankara osmanli imparatorlugu'nun sevr belgeleri istanbul db askeri\n",
      "topic 10 : x entry printf char oname fprintf int obfuscated ioccc entry'\n",
      "topic 11 : drive speed scsi ide clock wire car cable controller tire\n",
      "topic 12 : you i have what think we don't my would so\n",
      "topic 13 : image pub available file ftp widget user anonymous version x11\n",
      "topic 14 : 1 0 pit que tor 2 det stl bo nyr\n",
      "topic 15 : fund gun government agency federal administration clinton firearm citizen handgun\n",
      "topic 16 : key escrow encryption clipper encrypted microcircuit escrowed wiretap de decrypt\n",
      "topic 17 : istanbul ankara ermeni mezalimi osmanli imparatorlugu'nun ve belgeleri 1918 mecmuasi\n",
      "topic 18 : disease cesarean cancer study diet hdl medical treatment rsi candida\n",
      "topic 19 : istanbul mezalimi ermeni ax osmanli bizan ankara sevr belgeleri imparatorlugu'nun\n",
      "topic 20 : m 3 q v p w 8 ax t n\n"
     ]
    }
   ],
   "source": [
    "# load recent model\n",
    "model_list = glob(os.path.join('../checkpoint', '*.pt'))\n",
    "model_list2 = []\n",
    "if not len(model_list) == 0:\n",
    "    for m in model_list:\n",
    "        model_list2.append((m, int(m.split('/')[-1].split('_')[0])))\n",
    "    model_list2 = sorted(model_list2, key=lambda x:x[1])\n",
    "\n",
    "    start_epoch = model_list2[-1][1] + 1\n",
    "    state = torch.load(model_list2[-1][0], map_location=lambda storage, loc: storage)\n",
    "    print(f\" [*] Load SUCCESS: {model_list2[-1][0]}\")\n",
    "\n",
    "    \n",
    "n_topics = state['topics.topic_vectors'].shape[0]\n",
    "doc_weights = state['doc_weights.weight'].cpu().clone().numpy()\n",
    "topic_vectors = state['topics.topic_vectors'].cpu().clone().numpy()\n",
    "word_vectors = state['neg.embedding.weight'].cpu().clone().numpy()\n",
    "\n",
    "# distribution over the topics for each document\n",
    "topic_dist = softmax(doc_weights)\n",
    "\n",
    "similarity = np.matmul(topic_vectors, word_vectors.T)\n",
    "most_similar = similarity.argsort(axis=1)[:, -10:]\n",
    "\n",
    "for j in range(n_topics):\n",
    "    topic_words = ' '.join([decoder[i] for i in reversed(most_similar[j])])\n",
    "    print('topic', j + 1, ':', topic_words)\n",
    "    "
   ]
  },
  {
   "cell_type": "markdown",
   "metadata": {},
   "source": [
    "# Topic distribution over epochs"
   ]
  },
  {
   "cell_type": "markdown",
   "metadata": {},
   "source": [
    "### As training goes on, document weight vector becomes sparser."
   ]
  },
  {
   "cell_type": "code",
   "execution_count": 3,
   "metadata": {},
   "outputs": [
    {
     "data": {
      "image/png": "[encoded data removed]",
      "text/plain": [
       "<Figure size 432x288 with 1 Axes>"
      ]
     },
     "metadata": {
      "needs_background": "light"
     },
     "output_type": "display_data"
    },
    {
     "data": {
      "image/png": "[encoded data removed]",
      "text/plain": [
       "<Figure size 432x288 with 1 Axes>"
      ]
     },
     "metadata": {
      "needs_background": "light"
     },
     "output_type": "display_data"
    },
    {
     "data": {
      "image/png": "[encoded data removed]",
      "text/plain": [
       "<Figure size 432x288 with 1 Axes>"
      ]
     },
     "metadata": {
      "needs_background": "light"
     },
     "output_type": "display_data"
    }
   ],
   "source": [
    "for each, epoch in model_list2[:-1:(len(model_list2)//10)+1][:2] + [model_list2[-1]]:\n",
    "    state = torch.load(f'{each}', map_location=lambda storage, loc: storage)\n",
    "    doc_weights = state['doc_weights.weight'].cpu().clone().numpy()\n",
    "\n",
    "    # distribution over the topics for each document\n",
    "    topic_dist = softmax(doc_weights)\n",
    "\n",
    "    # distribution of nonzero probabilities\n",
    "    dist = topic_dist.reshape(-1)\n",
    "    plt.hist(dist[dist > 0.01], bins=40);\n",
    "    plt.title(f'epoch: {epoch}')\n",
    "    plt.show()\n",
    "    "
   ]
  },
  {
   "cell_type": "markdown",
   "metadata": {},
   "source": [
    "# Correlation of topic assignments"
   ]
  },
  {
   "cell_type": "code",
   "execution_count": 4,
   "metadata": {},
   "outputs": [
    {
     "data": {
      "image/png": "[encoded data removed]",
      "text/plain": [
       "<Figure size 432x288 with 2 Axes>"
      ]
     },
     "metadata": {
      "needs_background": "light"
     },
     "output_type": "display_data"
    }
   ],
   "source": [
    "corr = np.corrcoef(topic_dist.transpose(1, 0))\n",
    "plt.imshow(corr);\n",
    "plt.colorbar();\n"
   ]
  },
  {
   "cell_type": "markdown",
   "metadata": {},
   "source": [
    "# Show a document and its topics"
   ]
  },
  {
   "cell_type": "code",
   "execution_count": 140,
   "metadata": {
    "scrolled": false
   },
   "outputs": [
    {
     "name": "stdout",
     "output_type": "stream",
     "text": [
      "# of targetTopic docs: 90. (total 16756)\n",
      "\n",
      "DOCUMENT index: 10321\n",
      "white house office press secretary immediate release march 14 1993 public event president' schedule thursday april 15 1993 10 20 am est president meet leadership law enforcement organization rose garden open press 3 00 am edt president meet national ambassador march dime birth defect foundation oval office tv pool open still photo writing pool 3 15 am edt president meet mosaic minstrel new york ny rose garden open photo writing pool 3 30 am edt president meet berwick pa high school bulldog aaa state football champion south lawn open photo writing pool upcoming event president' schedule april 16 1993 president meet japanese prime minister miyazawa white house april 26 1993 president clinton meet president amato italy white house \n",
      "\n",
      "DISTRIBUTION OVER TOPICS:\n",
      "1:0.191  2:0.000  3:0.190  4:0.000  5:0.000  6:0.000  \n",
      "7:0.193  8:0.000  9:0.000  10:0.000  11:0.000  12:0.000  \n",
      "13:0.000  14:0.191  15:0.236  16:0.000  17:0.000  18:0.000  \n",
      "19:0.000  20:0.000  \n",
      "\n",
      "TOP TOPICS:\n",
      "topic 15 : fund gun government agency federal administration clinton firearm citizen handgun , 0.2356465\n",
      "topic 7 : venus moon kuwait solar planet orbit jupiter spacecraft mission asteroid , 0.19264957\n",
      "topic 14 : 1 0 pit que tor 2 det stl bo nyr , 0.19078358\n"
     ]
    }
   ],
   "source": [
    "targetTopic = 15\n",
    "\n",
    "prominentTopicWithInd = [(i[0], i[1]) for i in zip(np.argmax(topic_dist, axis=1), range(len(texts)))]\n",
    "possibleI = [i[1] for i in filter(lambda x: x[0] == targetTopic-1, prominentTopicWithInd)]\n",
    "print(f'# of targetTopic docs: {len(possibleI)}. (total {len(texts)})\\n')\n",
    "i = np.random.choice(possibleI)\n",
    "\n",
    "print(f'DOCUMENT index: {i}')\n",
    "print(texts[i][1], '\\n')\n",
    "\n",
    "print('DISTRIBUTION OVER TOPICS:')\n",
    "s = ''\n",
    "for j, p in enumerate(topic_dist[i], 1):\n",
    "    s += '{0}:{1:.3f}  '.format(j, p)\n",
    "    if j%6 == 0:\n",
    "        s += '\\n'\n",
    "print(s)\n",
    "\n",
    "\n",
    "print('\\nTOP TOPICS:')\n",
    "for j in reversed(topic_dist[i].argsort()[-3:]):\n",
    "    topic_words = ' '.join([decoder[i] for i in reversed(most_similar[j])])\n",
    "    print('topic', j + 1, ':', topic_words, ',', topic_dist[i][j])"
   ]
  },
  {
   "cell_type": "markdown",
   "metadata": {},
   "source": [
    "# Word Vectors"
   ]
  },
  {
   "cell_type": "code",
   "execution_count": 6,
   "metadata": {},
   "outputs": [],
   "source": [
    "word_vectors_norm = word_vectors / np.linalg.norm(word_vectors, axis=-1)[:, None]\n",
    "rev_decoder = {v: k for k,v in decoder.items()}\n",
    "vocab = [i for i,j in sorted(rev_decoder.items(), key=lambda x:x[1])]\n",
    "\n",
    "def get_vector(token):\n",
    "    index = vocab.index(token)\n",
    "    return word_vectors_norm[index, :].copy()\n",
    "\n",
    "def most_similar_func(token, n=20):\n",
    "    word_vector = get_vector(token)\n",
    "    similarities = np.dot(word_vectors, word_vector)\n",
    "    top = np.argsort(similarities)[::-1][:n]\n",
    "    return [vocab[i] for i in top]\n",
    "\n",
    "# This is Levy & Goldberg's 3Cosmul Metric\n",
    "# Based on the Gensim implementation: https://github.com/piskvorky/gensim/blob/master/gensim/models/word2vec.py\n",
    "def cosmul(positives, negatives, topn=20):\n",
    "    positive = [get_vector(p) for p in positives]\n",
    "    negative = [get_vector(n) for n in negatives]\n",
    "    pos_dists = [((1 + np.dot(word_vectors_norm, term)) / 2.) for term in positive]\n",
    "    neg_dists = [((1 + np.dot(word_vectors_norm, term)) / 2.) for term in negative]\n",
    "    dists = np.prod(pos_dists, axis=0) / (np.prod(neg_dists, axis=0) + 1e-6)\n",
    "    idxs = np.argsort(dists)[::-1][:topn]\n",
    "    return [vocab[i] for i in idxs if (vocab[i] not in positives) and (vocab[i] not in negatives)]\n",
    "\n",
    "def most_similar_posneg(positives, negatives, topn=20):\n",
    "    positive = np.sum([get_vector(p) for p in positives], axis=0)\n",
    "    negative = np.sum([get_vector(n) for n in negatives], axis=0)\n",
    "    vector = positive - negative\n",
    "    dists = np.dot(word_vectors_norm, vector)\n",
    "    idxs = np.argsort(dists)[::-1][:topn]\n",
    "    return [vocab[i] for i in idxs if (vocab[i] not in positives) and (vocab[i] not in negatives)]\n",
    "            "
   ]
  },
  {
   "cell_type": "code",
   "execution_count": 7,
   "metadata": {},
   "outputs": [
    {
     "data": {
      "text/plain": [
       "['planet',\n",
       " 'jupiter',\n",
       " 'orbit',\n",
       " 'venus',\n",
       " 'lunar',\n",
       " 'earth',\n",
       " 'pluto',\n",
       " 'probe',\n",
       " 'neptune',\n",
       " 'martian',\n",
       " 'flyby',\n",
       " 'voyager',\n",
       " 'orbiter',\n",
       " 'galilean',\n",
       " 'uranus',\n",
       " 'solar',\n",
       " 'phobo',\n",
       " \"jupiter'\",\n",
       " 'luna']"
      ]
     },
     "execution_count": 7,
     "metadata": {},
     "output_type": "execute_result"
    }
   ],
   "source": [
    "cosmul(['moon'], [], topn=20)"
   ]
  },
  {
   "cell_type": "code",
   "execution_count": null,
   "metadata": {},
   "outputs": [],
   "source": []
  }
 ],
 "metadata": {
  "kernelspec": {
   "display_name": "Python 3",
   "language": "python",
   "name": "python3"
  },
  "language_info": {
   "codemirror_mode": {
    "name": "ipython",
    "version": 3
   },
   "file_extension": ".py",
   "mimetype": "text/x-python",
   "name": "python",
   "nbconvert_exporter": "python",
   "pygments_lexer": "ipython3",
   "version": "3.6.8"
  }
 },
 "nbformat": 4,
 "nbformat_minor": 2
}
